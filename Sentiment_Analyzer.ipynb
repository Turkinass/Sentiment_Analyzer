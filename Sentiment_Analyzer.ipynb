{
  "cells": [
    {
      "cell_type": "markdown",
      "metadata": {
        "id": "view-in-github",
        "colab_type": "text"
      },
      "source": [
        "<a href=\"https://colab.research.google.com/github/Turkinass/Sentiment_Analyzer/blob/main/Sentiment_Analyzer.ipynb\" target=\"_parent\"><img src=\"https://colab.research.google.com/assets/colab-badge.svg\" alt=\"Open In Colab\"/></a>"
      ]
    },
    {
      "cell_type": "markdown",
      "metadata": {
        "id": "KcyQMnrBHMGj"
      },
      "source": [
        "SIC Capstone Project - The Unit (Group 4)\n",
        "# **Sentiment Analyzer**"
      ]
    },
    {
      "cell_type": "markdown",
      "metadata": {
        "id": "BFmz4_Nlo54Z"
      },
      "source": [
        "### Installing required libraries"
      ]
    },
    {
      "cell_type": "code",
      "execution_count": null,
      "metadata": {
        "id": "h2xvBIIB4ODp"
      },
      "outputs": [],
      "source": [
        "import pandas as pd\n",
        "import matplotlib.pyplot as plt\n",
        "import numpy as np\n",
        "import re\n",
        "\n",
        "from sklearn.model_selection import train_test_split\n",
        "\n",
        "import tensorflow as tf\n",
        "from tensorflow.keras.preprocessing.text import Tokenizer\n",
        "from tensorflow.keras.preprocessing.sequence import pad_sequences\n",
        "\n",
        "from google.colab import drive"
      ]
    },
    {
      "cell_type": "code",
      "execution_count": null,
      "metadata": {
        "id": "i3uXDE_S4QK4"
      },
      "outputs": [],
      "source": [
        "df_master = pd.read_csv('https://raw.githubusercontent.com/Turkinass/Sentiment_Analyzer/main/Tweets.csv')\n"
      ]
    },
    {
      "cell_type": "code",
      "execution_count": null,
      "metadata": {
        "colab": {
          "base_uri": "https://localhost:8080/",
          "height": 493
        },
        "id": "8jdyCMrB4cCQ",
        "outputId": "a1fc59f8-4047-4711-9d4b-a8fb06509b90"
      },
      "outputs": [
        {
          "output_type": "execute_result",
          "data": {
            "text/plain": [
              "                 tweet_id airline_sentiment  airline_sentiment_confidence  \\\n",
              "10107  569534372954681344          negative                        1.0000   \n",
              "12857  569999295631527937          negative                        1.0000   \n",
              "7275   569700499319959553          positive                        0.6535   \n",
              "9182   570081206412431360          negative                        0.6281   \n",
              "10765  568896751102533632           neutral                        1.0000   \n",
              "\n",
              "               negativereason  negativereason_confidence     airline  \\\n",
              "10107        Cancelled Flight                     1.0000  US Airways   \n",
              "12857  Customer Service Issue                     0.6805    American   \n",
              "7275                      NaN                        NaN       Delta   \n",
              "9182              Late Flight                     0.6281  US Airways   \n",
              "10765                     NaN                        NaN  US Airways   \n",
              "\n",
              "      airline_sentiment_gold           name negativereason_gold  \\\n",
              "10107                    NaN    beachylinda                 NaN   \n",
              "12857                    NaN     waynebevan                 NaN   \n",
              "7275                     NaN  jabeblanchard                 NaN   \n",
              "9182                     NaN     CicilyGray                 NaN   \n",
              "10765                    NaN      trevels11                 NaN   \n",
              "\n",
              "       retweet_count                                               text  \\\n",
              "10107              0  @USAirways first flight Cancelled Flightled, c...   \n",
              "12857              0  @AmericanAir Additional fare cost $19.. Tix ch...   \n",
              "7275               0  @JetBlue ha ha! Can I get a wake up call at bo...   \n",
              "9182               0  @USAirways flight from Bhm delayed 5hrs! Conne...   \n",
              "10765              0  @USAirways Almost home ...East Coast Freeze he...   \n",
              "\n",
              "                       tweet_coord              tweet_created  \\\n",
              "10107                          NaN  2015-02-22 08:29:10 -0800   \n",
              "12857                          NaN  2015-02-23 15:16:36 -0800   \n",
              "7275   [40.89343356, -74.29961359]  2015-02-22 19:29:18 -0800   \n",
              "9182                           NaN  2015-02-23 20:42:05 -0800   \n",
              "10765                          NaN  2015-02-20 14:15:29 -0800   \n",
              "\n",
              "         tweet_location               user_timezone  \n",
              "10107               NaN                         NaN  \n",
              "12857               NaN                      Alaska  \n",
              "7275        Right Coast  Eastern Time (US & Canada)  \n",
              "9182                NaN                         NaN  \n",
              "10765  Terrapin Station                         NaN  "
            ],
            "text/html": [
              "\n",
              "  <div id=\"df-b0541498-6f60-42b6-a43c-ab01c538b70c\">\n",
              "    <div class=\"colab-df-container\">\n",
              "      <div>\n",
              "<style scoped>\n",
              "    .dataframe tbody tr th:only-of-type {\n",
              "        vertical-align: middle;\n",
              "    }\n",
              "\n",
              "    .dataframe tbody tr th {\n",
              "        vertical-align: top;\n",
              "    }\n",
              "\n",
              "    .dataframe thead th {\n",
              "        text-align: right;\n",
              "    }\n",
              "</style>\n",
              "<table border=\"1\" class=\"dataframe\">\n",
              "  <thead>\n",
              "    <tr style=\"text-align: right;\">\n",
              "      <th></th>\n",
              "      <th>tweet_id</th>\n",
              "      <th>airline_sentiment</th>\n",
              "      <th>airline_sentiment_confidence</th>\n",
              "      <th>negativereason</th>\n",
              "      <th>negativereason_confidence</th>\n",
              "      <th>airline</th>\n",
              "      <th>airline_sentiment_gold</th>\n",
              "      <th>name</th>\n",
              "      <th>negativereason_gold</th>\n",
              "      <th>retweet_count</th>\n",
              "      <th>text</th>\n",
              "      <th>tweet_coord</th>\n",
              "      <th>tweet_created</th>\n",
              "      <th>tweet_location</th>\n",
              "      <th>user_timezone</th>\n",
              "    </tr>\n",
              "  </thead>\n",
              "  <tbody>\n",
              "    <tr>\n",
              "      <th>10107</th>\n",
              "      <td>569534372954681344</td>\n",
              "      <td>negative</td>\n",
              "      <td>1.0000</td>\n",
              "      <td>Cancelled Flight</td>\n",
              "      <td>1.0000</td>\n",
              "      <td>US Airways</td>\n",
              "      <td>NaN</td>\n",
              "      <td>beachylinda</td>\n",
              "      <td>NaN</td>\n",
              "      <td>0</td>\n",
              "      <td>@USAirways first flight Cancelled Flightled, c...</td>\n",
              "      <td>NaN</td>\n",
              "      <td>2015-02-22 08:29:10 -0800</td>\n",
              "      <td>NaN</td>\n",
              "      <td>NaN</td>\n",
              "    </tr>\n",
              "    <tr>\n",
              "      <th>12857</th>\n",
              "      <td>569999295631527937</td>\n",
              "      <td>negative</td>\n",
              "      <td>1.0000</td>\n",
              "      <td>Customer Service Issue</td>\n",
              "      <td>0.6805</td>\n",
              "      <td>American</td>\n",
              "      <td>NaN</td>\n",
              "      <td>waynebevan</td>\n",
              "      <td>NaN</td>\n",
              "      <td>0</td>\n",
              "      <td>@AmericanAir Additional fare cost $19.. Tix ch...</td>\n",
              "      <td>NaN</td>\n",
              "      <td>2015-02-23 15:16:36 -0800</td>\n",
              "      <td>NaN</td>\n",
              "      <td>Alaska</td>\n",
              "    </tr>\n",
              "    <tr>\n",
              "      <th>7275</th>\n",
              "      <td>569700499319959553</td>\n",
              "      <td>positive</td>\n",
              "      <td>0.6535</td>\n",
              "      <td>NaN</td>\n",
              "      <td>NaN</td>\n",
              "      <td>Delta</td>\n",
              "      <td>NaN</td>\n",
              "      <td>jabeblanchard</td>\n",
              "      <td>NaN</td>\n",
              "      <td>0</td>\n",
              "      <td>@JetBlue ha ha! Can I get a wake up call at bo...</td>\n",
              "      <td>[40.89343356, -74.29961359]</td>\n",
              "      <td>2015-02-22 19:29:18 -0800</td>\n",
              "      <td>Right Coast</td>\n",
              "      <td>Eastern Time (US &amp; Canada)</td>\n",
              "    </tr>\n",
              "    <tr>\n",
              "      <th>9182</th>\n",
              "      <td>570081206412431360</td>\n",
              "      <td>negative</td>\n",
              "      <td>0.6281</td>\n",
              "      <td>Late Flight</td>\n",
              "      <td>0.6281</td>\n",
              "      <td>US Airways</td>\n",
              "      <td>NaN</td>\n",
              "      <td>CicilyGray</td>\n",
              "      <td>NaN</td>\n",
              "      <td>0</td>\n",
              "      <td>@USAirways flight from Bhm delayed 5hrs! Conne...</td>\n",
              "      <td>NaN</td>\n",
              "      <td>2015-02-23 20:42:05 -0800</td>\n",
              "      <td>NaN</td>\n",
              "      <td>NaN</td>\n",
              "    </tr>\n",
              "    <tr>\n",
              "      <th>10765</th>\n",
              "      <td>568896751102533632</td>\n",
              "      <td>neutral</td>\n",
              "      <td>1.0000</td>\n",
              "      <td>NaN</td>\n",
              "      <td>NaN</td>\n",
              "      <td>US Airways</td>\n",
              "      <td>NaN</td>\n",
              "      <td>trevels11</td>\n",
              "      <td>NaN</td>\n",
              "      <td>0</td>\n",
              "      <td>@USAirways Almost home ...East Coast Freeze he...</td>\n",
              "      <td>NaN</td>\n",
              "      <td>2015-02-20 14:15:29 -0800</td>\n",
              "      <td>Terrapin Station</td>\n",
              "      <td>NaN</td>\n",
              "    </tr>\n",
              "  </tbody>\n",
              "</table>\n",
              "</div>\n",
              "      <button class=\"colab-df-convert\" onclick=\"convertToInteractive('df-b0541498-6f60-42b6-a43c-ab01c538b70c')\"\n",
              "              title=\"Convert this dataframe to an interactive table.\"\n",
              "              style=\"display:none;\">\n",
              "        \n",
              "  <svg xmlns=\"http://www.w3.org/2000/svg\" height=\"24px\"viewBox=\"0 0 24 24\"\n",
              "       width=\"24px\">\n",
              "    <path d=\"M0 0h24v24H0V0z\" fill=\"none\"/>\n",
              "    <path d=\"M18.56 5.44l.94 2.06.94-2.06 2.06-.94-2.06-.94-.94-2.06-.94 2.06-2.06.94zm-11 1L8.5 8.5l.94-2.06 2.06-.94-2.06-.94L8.5 2.5l-.94 2.06-2.06.94zm10 10l.94 2.06.94-2.06 2.06-.94-2.06-.94-.94-2.06-.94 2.06-2.06.94z\"/><path d=\"M17.41 7.96l-1.37-1.37c-.4-.4-.92-.59-1.43-.59-.52 0-1.04.2-1.43.59L10.3 9.45l-7.72 7.72c-.78.78-.78 2.05 0 2.83L4 21.41c.39.39.9.59 1.41.59.51 0 1.02-.2 1.41-.59l7.78-7.78 2.81-2.81c.8-.78.8-2.07 0-2.86zM5.41 20L4 18.59l7.72-7.72 1.47 1.35L5.41 20z\"/>\n",
              "  </svg>\n",
              "      </button>\n",
              "      \n",
              "  <style>\n",
              "    .colab-df-container {\n",
              "      display:flex;\n",
              "      flex-wrap:wrap;\n",
              "      gap: 12px;\n",
              "    }\n",
              "\n",
              "    .colab-df-convert {\n",
              "      background-color: #E8F0FE;\n",
              "      border: none;\n",
              "      border-radius: 50%;\n",
              "      cursor: pointer;\n",
              "      display: none;\n",
              "      fill: #1967D2;\n",
              "      height: 32px;\n",
              "      padding: 0 0 0 0;\n",
              "      width: 32px;\n",
              "    }\n",
              "\n",
              "    .colab-df-convert:hover {\n",
              "      background-color: #E2EBFA;\n",
              "      box-shadow: 0px 1px 2px rgba(60, 64, 67, 0.3), 0px 1px 3px 1px rgba(60, 64, 67, 0.15);\n",
              "      fill: #174EA6;\n",
              "    }\n",
              "\n",
              "    [theme=dark] .colab-df-convert {\n",
              "      background-color: #3B4455;\n",
              "      fill: #D2E3FC;\n",
              "    }\n",
              "\n",
              "    [theme=dark] .colab-df-convert:hover {\n",
              "      background-color: #434B5C;\n",
              "      box-shadow: 0px 1px 3px 1px rgba(0, 0, 0, 0.15);\n",
              "      filter: drop-shadow(0px 1px 2px rgba(0, 0, 0, 0.3));\n",
              "      fill: #FFFFFF;\n",
              "    }\n",
              "  </style>\n",
              "\n",
              "      <script>\n",
              "        const buttonEl =\n",
              "          document.querySelector('#df-b0541498-6f60-42b6-a43c-ab01c538b70c button.colab-df-convert');\n",
              "        buttonEl.style.display =\n",
              "          google.colab.kernel.accessAllowed ? 'block' : 'none';\n",
              "\n",
              "        async function convertToInteractive(key) {\n",
              "          const element = document.querySelector('#df-b0541498-6f60-42b6-a43c-ab01c538b70c');\n",
              "          const dataTable =\n",
              "            await google.colab.kernel.invokeFunction('convertToInteractive',\n",
              "                                                     [key], {});\n",
              "          if (!dataTable) return;\n",
              "\n",
              "          const docLinkHtml = 'Like what you see? Visit the ' +\n",
              "            '<a target=\"_blank\" href=https://colab.research.google.com/notebooks/data_table.ipynb>data table notebook</a>'\n",
              "            + ' to learn more about interactive tables.';\n",
              "          element.innerHTML = '';\n",
              "          dataTable['output_type'] = 'display_data';\n",
              "          await google.colab.output.renderOutput(dataTable, element);\n",
              "          const docLink = document.createElement('div');\n",
              "          docLink.innerHTML = docLinkHtml;\n",
              "          element.appendChild(docLink);\n",
              "        }\n",
              "      </script>\n",
              "    </div>\n",
              "  </div>\n",
              "  "
            ]
          },
          "metadata": {},
          "execution_count": 4
        }
      ],
      "source": [
        "df_master.sample(5)"
      ]
    },
    {
      "cell_type": "code",
      "execution_count": null,
      "metadata": {
        "colab": {
          "base_uri": "https://localhost:8080/"
        },
        "id": "XWlk4hTf8Q3J",
        "outputId": "021e9424-bf99-4e75-f4fd-ff52bdab2376"
      },
      "outputs": [
        {
          "output_type": "execute_result",
          "data": {
            "text/plain": [
              "negative    9178\n",
              "neutral     3099\n",
              "positive    2363\n",
              "Name: airline_sentiment, dtype: int64"
            ]
          },
          "metadata": {},
          "execution_count": 5
        }
      ],
      "source": [
        "df_master.airline_sentiment.value_counts()"
      ]
    },
    {
      "cell_type": "markdown",
      "metadata": {
        "id": "L9ADl1092Gj7"
      },
      "source": [
        "### Data Preprocessing"
      ]
    },
    {
      "cell_type": "code",
      "execution_count": null,
      "metadata": {
        "colab": {
          "base_uri": "https://localhost:8080/"
        },
        "id": "I3eMxQee5np1",
        "outputId": "7c0524e9-a5a5-44bf-b91b-81bc8787538b"
      },
      "outputs": [
        {
          "output_type": "stream",
          "name": "stdout",
          "text": [
            "Number of duplicated values:  36\n"
          ]
        }
      ],
      "source": [
        "print('Number of duplicated values: ', df_master.duplicated().sum())"
      ]
    },
    {
      "cell_type": "code",
      "execution_count": null,
      "metadata": {
        "id": "FrjY042y74Jp"
      },
      "outputs": [],
      "source": [
        "df_master.drop_duplicates(inplace = True)"
      ]
    },
    {
      "cell_type": "code",
      "execution_count": null,
      "metadata": {
        "colab": {
          "base_uri": "https://localhost:8080/"
        },
        "id": "vb5F7Sfk7_Gv",
        "outputId": "437f70f4-bcef-4b4c-9ef9-a635cd0b0b58"
      },
      "outputs": [
        {
          "output_type": "stream",
          "name": "stdout",
          "text": [
            "Number of duplicated values:  0\n"
          ]
        }
      ],
      "source": [
        "print('Number of duplicated values: ', df_master.duplicated().sum())"
      ]
    },
    {
      "cell_type": "code",
      "execution_count": null,
      "metadata": {
        "colab": {
          "base_uri": "https://localhost:8080/",
          "height": 406
        },
        "id": "fZ5NByni-kxu",
        "outputId": "7961f7dc-666f-455d-a0ae-10c2798a5115"
      },
      "outputs": [
        {
          "output_type": "execute_result",
          "data": {
            "text/plain": [
              "             tweet_id airline_sentiment  airline_sentiment_confidence  \\\n",
              "0  570306133677760513           neutral                        1.0000   \n",
              "1  570301130888122368          positive                        0.3486   \n",
              "2  570301083672813571           neutral                        0.6837   \n",
              "3  570301031407624196          negative                        1.0000   \n",
              "4  570300817074462722          negative                        1.0000   \n",
              "\n",
              "  negativereason  negativereason_confidence         airline  \\\n",
              "0            NaN                        NaN  Virgin America   \n",
              "1            NaN                     0.0000  Virgin America   \n",
              "2            NaN                        NaN  Virgin America   \n",
              "3     Bad Flight                     0.7033  Virgin America   \n",
              "4     Can't Tell                     1.0000  Virgin America   \n",
              "\n",
              "  airline_sentiment_gold        name negativereason_gold  retweet_count  \\\n",
              "0                    NaN     cairdin                 NaN              0   \n",
              "1                    NaN    jnardino                 NaN              0   \n",
              "2                    NaN  yvonnalynn                 NaN              0   \n",
              "3                    NaN    jnardino                 NaN              0   \n",
              "4                    NaN    jnardino                 NaN              0   \n",
              "\n",
              "                                                text tweet_coord  \\\n",
              "0                @VirginAmerica What @dhepburn said.         NaN   \n",
              "1  @VirginAmerica plus you've added commercials t...         NaN   \n",
              "2  @VirginAmerica I didn't today... Must mean I n...         NaN   \n",
              "3  @VirginAmerica it's really aggressive to blast...         NaN   \n",
              "4  @VirginAmerica and it's a really big bad thing...         NaN   \n",
              "\n",
              "               tweet_created tweet_location               user_timezone  \n",
              "0  2015-02-24 11:35:52 -0800            NaN  Eastern Time (US & Canada)  \n",
              "1  2015-02-24 11:15:59 -0800            NaN  Pacific Time (US & Canada)  \n",
              "2  2015-02-24 11:15:48 -0800      Lets Play  Central Time (US & Canada)  \n",
              "3  2015-02-24 11:15:36 -0800            NaN  Pacific Time (US & Canada)  \n",
              "4  2015-02-24 11:14:45 -0800            NaN  Pacific Time (US & Canada)  "
            ],
            "text/html": [
              "\n",
              "  <div id=\"df-6aea9ba8-2ad9-4a2e-bd37-2f9b22ab4a92\">\n",
              "    <div class=\"colab-df-container\">\n",
              "      <div>\n",
              "<style scoped>\n",
              "    .dataframe tbody tr th:only-of-type {\n",
              "        vertical-align: middle;\n",
              "    }\n",
              "\n",
              "    .dataframe tbody tr th {\n",
              "        vertical-align: top;\n",
              "    }\n",
              "\n",
              "    .dataframe thead th {\n",
              "        text-align: right;\n",
              "    }\n",
              "</style>\n",
              "<table border=\"1\" class=\"dataframe\">\n",
              "  <thead>\n",
              "    <tr style=\"text-align: right;\">\n",
              "      <th></th>\n",
              "      <th>tweet_id</th>\n",
              "      <th>airline_sentiment</th>\n",
              "      <th>airline_sentiment_confidence</th>\n",
              "      <th>negativereason</th>\n",
              "      <th>negativereason_confidence</th>\n",
              "      <th>airline</th>\n",
              "      <th>airline_sentiment_gold</th>\n",
              "      <th>name</th>\n",
              "      <th>negativereason_gold</th>\n",
              "      <th>retweet_count</th>\n",
              "      <th>text</th>\n",
              "      <th>tweet_coord</th>\n",
              "      <th>tweet_created</th>\n",
              "      <th>tweet_location</th>\n",
              "      <th>user_timezone</th>\n",
              "    </tr>\n",
              "  </thead>\n",
              "  <tbody>\n",
              "    <tr>\n",
              "      <th>0</th>\n",
              "      <td>570306133677760513</td>\n",
              "      <td>neutral</td>\n",
              "      <td>1.0000</td>\n",
              "      <td>NaN</td>\n",
              "      <td>NaN</td>\n",
              "      <td>Virgin America</td>\n",
              "      <td>NaN</td>\n",
              "      <td>cairdin</td>\n",
              "      <td>NaN</td>\n",
              "      <td>0</td>\n",
              "      <td>@VirginAmerica What @dhepburn said.</td>\n",
              "      <td>NaN</td>\n",
              "      <td>2015-02-24 11:35:52 -0800</td>\n",
              "      <td>NaN</td>\n",
              "      <td>Eastern Time (US &amp; Canada)</td>\n",
              "    </tr>\n",
              "    <tr>\n",
              "      <th>1</th>\n",
              "      <td>570301130888122368</td>\n",
              "      <td>positive</td>\n",
              "      <td>0.3486</td>\n",
              "      <td>NaN</td>\n",
              "      <td>0.0000</td>\n",
              "      <td>Virgin America</td>\n",
              "      <td>NaN</td>\n",
              "      <td>jnardino</td>\n",
              "      <td>NaN</td>\n",
              "      <td>0</td>\n",
              "      <td>@VirginAmerica plus you've added commercials t...</td>\n",
              "      <td>NaN</td>\n",
              "      <td>2015-02-24 11:15:59 -0800</td>\n",
              "      <td>NaN</td>\n",
              "      <td>Pacific Time (US &amp; Canada)</td>\n",
              "    </tr>\n",
              "    <tr>\n",
              "      <th>2</th>\n",
              "      <td>570301083672813571</td>\n",
              "      <td>neutral</td>\n",
              "      <td>0.6837</td>\n",
              "      <td>NaN</td>\n",
              "      <td>NaN</td>\n",
              "      <td>Virgin America</td>\n",
              "      <td>NaN</td>\n",
              "      <td>yvonnalynn</td>\n",
              "      <td>NaN</td>\n",
              "      <td>0</td>\n",
              "      <td>@VirginAmerica I didn't today... Must mean I n...</td>\n",
              "      <td>NaN</td>\n",
              "      <td>2015-02-24 11:15:48 -0800</td>\n",
              "      <td>Lets Play</td>\n",
              "      <td>Central Time (US &amp; Canada)</td>\n",
              "    </tr>\n",
              "    <tr>\n",
              "      <th>3</th>\n",
              "      <td>570301031407624196</td>\n",
              "      <td>negative</td>\n",
              "      <td>1.0000</td>\n",
              "      <td>Bad Flight</td>\n",
              "      <td>0.7033</td>\n",
              "      <td>Virgin America</td>\n",
              "      <td>NaN</td>\n",
              "      <td>jnardino</td>\n",
              "      <td>NaN</td>\n",
              "      <td>0</td>\n",
              "      <td>@VirginAmerica it's really aggressive to blast...</td>\n",
              "      <td>NaN</td>\n",
              "      <td>2015-02-24 11:15:36 -0800</td>\n",
              "      <td>NaN</td>\n",
              "      <td>Pacific Time (US &amp; Canada)</td>\n",
              "    </tr>\n",
              "    <tr>\n",
              "      <th>4</th>\n",
              "      <td>570300817074462722</td>\n",
              "      <td>negative</td>\n",
              "      <td>1.0000</td>\n",
              "      <td>Can't Tell</td>\n",
              "      <td>1.0000</td>\n",
              "      <td>Virgin America</td>\n",
              "      <td>NaN</td>\n",
              "      <td>jnardino</td>\n",
              "      <td>NaN</td>\n",
              "      <td>0</td>\n",
              "      <td>@VirginAmerica and it's a really big bad thing...</td>\n",
              "      <td>NaN</td>\n",
              "      <td>2015-02-24 11:14:45 -0800</td>\n",
              "      <td>NaN</td>\n",
              "      <td>Pacific Time (US &amp; Canada)</td>\n",
              "    </tr>\n",
              "  </tbody>\n",
              "</table>\n",
              "</div>\n",
              "      <button class=\"colab-df-convert\" onclick=\"convertToInteractive('df-6aea9ba8-2ad9-4a2e-bd37-2f9b22ab4a92')\"\n",
              "              title=\"Convert this dataframe to an interactive table.\"\n",
              "              style=\"display:none;\">\n",
              "        \n",
              "  <svg xmlns=\"http://www.w3.org/2000/svg\" height=\"24px\"viewBox=\"0 0 24 24\"\n",
              "       width=\"24px\">\n",
              "    <path d=\"M0 0h24v24H0V0z\" fill=\"none\"/>\n",
              "    <path d=\"M18.56 5.44l.94 2.06.94-2.06 2.06-.94-2.06-.94-.94-2.06-.94 2.06-2.06.94zm-11 1L8.5 8.5l.94-2.06 2.06-.94-2.06-.94L8.5 2.5l-.94 2.06-2.06.94zm10 10l.94 2.06.94-2.06 2.06-.94-2.06-.94-.94-2.06-.94 2.06-2.06.94z\"/><path d=\"M17.41 7.96l-1.37-1.37c-.4-.4-.92-.59-1.43-.59-.52 0-1.04.2-1.43.59L10.3 9.45l-7.72 7.72c-.78.78-.78 2.05 0 2.83L4 21.41c.39.39.9.59 1.41.59.51 0 1.02-.2 1.41-.59l7.78-7.78 2.81-2.81c.8-.78.8-2.07 0-2.86zM5.41 20L4 18.59l7.72-7.72 1.47 1.35L5.41 20z\"/>\n",
              "  </svg>\n",
              "      </button>\n",
              "      \n",
              "  <style>\n",
              "    .colab-df-container {\n",
              "      display:flex;\n",
              "      flex-wrap:wrap;\n",
              "      gap: 12px;\n",
              "    }\n",
              "\n",
              "    .colab-df-convert {\n",
              "      background-color: #E8F0FE;\n",
              "      border: none;\n",
              "      border-radius: 50%;\n",
              "      cursor: pointer;\n",
              "      display: none;\n",
              "      fill: #1967D2;\n",
              "      height: 32px;\n",
              "      padding: 0 0 0 0;\n",
              "      width: 32px;\n",
              "    }\n",
              "\n",
              "    .colab-df-convert:hover {\n",
              "      background-color: #E2EBFA;\n",
              "      box-shadow: 0px 1px 2px rgba(60, 64, 67, 0.3), 0px 1px 3px 1px rgba(60, 64, 67, 0.15);\n",
              "      fill: #174EA6;\n",
              "    }\n",
              "\n",
              "    [theme=dark] .colab-df-convert {\n",
              "      background-color: #3B4455;\n",
              "      fill: #D2E3FC;\n",
              "    }\n",
              "\n",
              "    [theme=dark] .colab-df-convert:hover {\n",
              "      background-color: #434B5C;\n",
              "      box-shadow: 0px 1px 3px 1px rgba(0, 0, 0, 0.15);\n",
              "      filter: drop-shadow(0px 1px 2px rgba(0, 0, 0, 0.3));\n",
              "      fill: #FFFFFF;\n",
              "    }\n",
              "  </style>\n",
              "\n",
              "      <script>\n",
              "        const buttonEl =\n",
              "          document.querySelector('#df-6aea9ba8-2ad9-4a2e-bd37-2f9b22ab4a92 button.colab-df-convert');\n",
              "        buttonEl.style.display =\n",
              "          google.colab.kernel.accessAllowed ? 'block' : 'none';\n",
              "\n",
              "        async function convertToInteractive(key) {\n",
              "          const element = document.querySelector('#df-6aea9ba8-2ad9-4a2e-bd37-2f9b22ab4a92');\n",
              "          const dataTable =\n",
              "            await google.colab.kernel.invokeFunction('convertToInteractive',\n",
              "                                                     [key], {});\n",
              "          if (!dataTable) return;\n",
              "\n",
              "          const docLinkHtml = 'Like what you see? Visit the ' +\n",
              "            '<a target=\"_blank\" href=https://colab.research.google.com/notebooks/data_table.ipynb>data table notebook</a>'\n",
              "            + ' to learn more about interactive tables.';\n",
              "          element.innerHTML = '';\n",
              "          dataTable['output_type'] = 'display_data';\n",
              "          await google.colab.output.renderOutput(dataTable, element);\n",
              "          const docLink = document.createElement('div');\n",
              "          docLink.innerHTML = docLinkHtml;\n",
              "          element.appendChild(docLink);\n",
              "        }\n",
              "      </script>\n",
              "    </div>\n",
              "  </div>\n",
              "  "
            ]
          },
          "metadata": {},
          "execution_count": 9
        }
      ],
      "source": [
        "df_master.head()"
      ]
    },
    {
      "cell_type": "code",
      "execution_count": null,
      "metadata": {
        "colab": {
          "base_uri": "https://localhost:8080/"
        },
        "id": "xWCMiRDS-nk6",
        "outputId": "61837394-636b-4add-aa8d-b5b423f727d8"
      },
      "outputs": [
        {
          "output_type": "execute_result",
          "data": {
            "text/plain": [
              "(14604, 15)"
            ]
          },
          "metadata": {},
          "execution_count": 10
        }
      ],
      "source": [
        "df_master.shape"
      ]
    },
    {
      "cell_type": "code",
      "execution_count": null,
      "metadata": {
        "id": "ksdrsPAc_Hu2"
      },
      "outputs": [],
      "source": [
        "# tokenizing the sentiments\n",
        "sentiment_conditions = [\n",
        "    (df_master['airline_sentiment'] == 'negative'),\n",
        "    (df_master['airline_sentiment'] == 'neutral'),\n",
        "    (df_master['airline_sentiment'] == 'positive')\n",
        "    ]\n",
        "\n",
        "values = [0, 1, 2]\n",
        "\n",
        "df_master['label'] = np.select(sentiment_conditions, values)"
      ]
    },
    {
      "cell_type": "code",
      "execution_count": null,
      "metadata": {
        "colab": {
          "base_uri": "https://localhost:8080/"
        },
        "id": "sESMWcSgAmPA",
        "outputId": "7a4dca18-bbe9-4c3b-8ba5-7ecf5884964b"
      },
      "outputs": [
        {
          "output_type": "execute_result",
          "data": {
            "text/plain": [
              "0    9159\n",
              "1    3091\n",
              "2    2354\n",
              "Name: label, dtype: int64"
            ]
          },
          "metadata": {},
          "execution_count": 12
        }
      ],
      "source": [
        "df_master.label.value_counts()"
      ]
    },
    {
      "cell_type": "code",
      "execution_count": null,
      "metadata": {
        "colab": {
          "base_uri": "https://localhost:8080/"
        },
        "id": "A8x4ovYrA015",
        "outputId": "076bbf7e-b837-4ad3-97b6-6a00de4b393d"
      },
      "outputs": [
        {
          "output_type": "stream",
          "name": "stderr",
          "text": [
            "/usr/local/lib/python3.7/dist-packages/ipykernel_launcher.py:2: FutureWarning: In a future version of pandas all arguments of DataFrame.drop except for the argument 'labels' will be keyword-only\n",
            "  \n"
          ]
        }
      ],
      "source": [
        "# removing unneeded columns\n",
        "df_master.drop(df_master.columns.difference(['airline_sentiment','text', 'label']), 1, inplace=True)"
      ]
    },
    {
      "cell_type": "code",
      "execution_count": null,
      "metadata": {
        "colab": {
          "base_uri": "https://localhost:8080/",
          "height": 424
        },
        "id": "oInV1j8JBGtv",
        "outputId": "a2032e1e-110a-4acd-9302-3ca24b2d8c82"
      },
      "outputs": [
        {
          "output_type": "execute_result",
          "data": {
            "text/plain": [
              "    airline_sentiment                                               text  \\\n",
              "0             neutral                @VirginAmerica What @dhepburn said.   \n",
              "1            positive  @VirginAmerica plus you've added commercials t...   \n",
              "2             neutral  @VirginAmerica I didn't today... Must mean I n...   \n",
              "3            negative  @VirginAmerica it's really aggressive to blast...   \n",
              "4            negative  @VirginAmerica and it's a really big bad thing...   \n",
              "..                ...                                                ...   \n",
              "195          negative  @VirginAmerica Because we never rec'd Cancelle...   \n",
              "196          negative  @VirginAmerica trying to book a flight &amp; y...   \n",
              "197          negative  @VirginAmerica You have any flights flying int...   \n",
              "198          negative  @VirginAmerica you stink. Flight Cancelled Fli...   \n",
              "199          positive  @VirginAmerica I love your guy's song! We're d...   \n",
              "\n",
              "     label  \n",
              "0        1  \n",
              "1        2  \n",
              "2        1  \n",
              "3        0  \n",
              "4        0  \n",
              "..     ...  \n",
              "195      0  \n",
              "196      0  \n",
              "197      0  \n",
              "198      0  \n",
              "199      2  \n",
              "\n",
              "[200 rows x 3 columns]"
            ],
            "text/html": [
              "\n",
              "  <div id=\"df-046717c3-c6ad-49e1-8deb-566abefe643f\">\n",
              "    <div class=\"colab-df-container\">\n",
              "      <div>\n",
              "<style scoped>\n",
              "    .dataframe tbody tr th:only-of-type {\n",
              "        vertical-align: middle;\n",
              "    }\n",
              "\n",
              "    .dataframe tbody tr th {\n",
              "        vertical-align: top;\n",
              "    }\n",
              "\n",
              "    .dataframe thead th {\n",
              "        text-align: right;\n",
              "    }\n",
              "</style>\n",
              "<table border=\"1\" class=\"dataframe\">\n",
              "  <thead>\n",
              "    <tr style=\"text-align: right;\">\n",
              "      <th></th>\n",
              "      <th>airline_sentiment</th>\n",
              "      <th>text</th>\n",
              "      <th>label</th>\n",
              "    </tr>\n",
              "  </thead>\n",
              "  <tbody>\n",
              "    <tr>\n",
              "      <th>0</th>\n",
              "      <td>neutral</td>\n",
              "      <td>@VirginAmerica What @dhepburn said.</td>\n",
              "      <td>1</td>\n",
              "    </tr>\n",
              "    <tr>\n",
              "      <th>1</th>\n",
              "      <td>positive</td>\n",
              "      <td>@VirginAmerica plus you've added commercials t...</td>\n",
              "      <td>2</td>\n",
              "    </tr>\n",
              "    <tr>\n",
              "      <th>2</th>\n",
              "      <td>neutral</td>\n",
              "      <td>@VirginAmerica I didn't today... Must mean I n...</td>\n",
              "      <td>1</td>\n",
              "    </tr>\n",
              "    <tr>\n",
              "      <th>3</th>\n",
              "      <td>negative</td>\n",
              "      <td>@VirginAmerica it's really aggressive to blast...</td>\n",
              "      <td>0</td>\n",
              "    </tr>\n",
              "    <tr>\n",
              "      <th>4</th>\n",
              "      <td>negative</td>\n",
              "      <td>@VirginAmerica and it's a really big bad thing...</td>\n",
              "      <td>0</td>\n",
              "    </tr>\n",
              "    <tr>\n",
              "      <th>...</th>\n",
              "      <td>...</td>\n",
              "      <td>...</td>\n",
              "      <td>...</td>\n",
              "    </tr>\n",
              "    <tr>\n",
              "      <th>195</th>\n",
              "      <td>negative</td>\n",
              "      <td>@VirginAmerica Because we never rec'd Cancelle...</td>\n",
              "      <td>0</td>\n",
              "    </tr>\n",
              "    <tr>\n",
              "      <th>196</th>\n",
              "      <td>negative</td>\n",
              "      <td>@VirginAmerica trying to book a flight &amp;amp; y...</td>\n",
              "      <td>0</td>\n",
              "    </tr>\n",
              "    <tr>\n",
              "      <th>197</th>\n",
              "      <td>negative</td>\n",
              "      <td>@VirginAmerica You have any flights flying int...</td>\n",
              "      <td>0</td>\n",
              "    </tr>\n",
              "    <tr>\n",
              "      <th>198</th>\n",
              "      <td>negative</td>\n",
              "      <td>@VirginAmerica you stink. Flight Cancelled Fli...</td>\n",
              "      <td>0</td>\n",
              "    </tr>\n",
              "    <tr>\n",
              "      <th>199</th>\n",
              "      <td>positive</td>\n",
              "      <td>@VirginAmerica I love your guy's song! We're d...</td>\n",
              "      <td>2</td>\n",
              "    </tr>\n",
              "  </tbody>\n",
              "</table>\n",
              "<p>200 rows × 3 columns</p>\n",
              "</div>\n",
              "      <button class=\"colab-df-convert\" onclick=\"convertToInteractive('df-046717c3-c6ad-49e1-8deb-566abefe643f')\"\n",
              "              title=\"Convert this dataframe to an interactive table.\"\n",
              "              style=\"display:none;\">\n",
              "        \n",
              "  <svg xmlns=\"http://www.w3.org/2000/svg\" height=\"24px\"viewBox=\"0 0 24 24\"\n",
              "       width=\"24px\">\n",
              "    <path d=\"M0 0h24v24H0V0z\" fill=\"none\"/>\n",
              "    <path d=\"M18.56 5.44l.94 2.06.94-2.06 2.06-.94-2.06-.94-.94-2.06-.94 2.06-2.06.94zm-11 1L8.5 8.5l.94-2.06 2.06-.94-2.06-.94L8.5 2.5l-.94 2.06-2.06.94zm10 10l.94 2.06.94-2.06 2.06-.94-2.06-.94-.94-2.06-.94 2.06-2.06.94z\"/><path d=\"M17.41 7.96l-1.37-1.37c-.4-.4-.92-.59-1.43-.59-.52 0-1.04.2-1.43.59L10.3 9.45l-7.72 7.72c-.78.78-.78 2.05 0 2.83L4 21.41c.39.39.9.59 1.41.59.51 0 1.02-.2 1.41-.59l7.78-7.78 2.81-2.81c.8-.78.8-2.07 0-2.86zM5.41 20L4 18.59l7.72-7.72 1.47 1.35L5.41 20z\"/>\n",
              "  </svg>\n",
              "      </button>\n",
              "      \n",
              "  <style>\n",
              "    .colab-df-container {\n",
              "      display:flex;\n",
              "      flex-wrap:wrap;\n",
              "      gap: 12px;\n",
              "    }\n",
              "\n",
              "    .colab-df-convert {\n",
              "      background-color: #E8F0FE;\n",
              "      border: none;\n",
              "      border-radius: 50%;\n",
              "      cursor: pointer;\n",
              "      display: none;\n",
              "      fill: #1967D2;\n",
              "      height: 32px;\n",
              "      padding: 0 0 0 0;\n",
              "      width: 32px;\n",
              "    }\n",
              "\n",
              "    .colab-df-convert:hover {\n",
              "      background-color: #E2EBFA;\n",
              "      box-shadow: 0px 1px 2px rgba(60, 64, 67, 0.3), 0px 1px 3px 1px rgba(60, 64, 67, 0.15);\n",
              "      fill: #174EA6;\n",
              "    }\n",
              "\n",
              "    [theme=dark] .colab-df-convert {\n",
              "      background-color: #3B4455;\n",
              "      fill: #D2E3FC;\n",
              "    }\n",
              "\n",
              "    [theme=dark] .colab-df-convert:hover {\n",
              "      background-color: #434B5C;\n",
              "      box-shadow: 0px 1px 3px 1px rgba(0, 0, 0, 0.15);\n",
              "      filter: drop-shadow(0px 1px 2px rgba(0, 0, 0, 0.3));\n",
              "      fill: #FFFFFF;\n",
              "    }\n",
              "  </style>\n",
              "\n",
              "      <script>\n",
              "        const buttonEl =\n",
              "          document.querySelector('#df-046717c3-c6ad-49e1-8deb-566abefe643f button.colab-df-convert');\n",
              "        buttonEl.style.display =\n",
              "          google.colab.kernel.accessAllowed ? 'block' : 'none';\n",
              "\n",
              "        async function convertToInteractive(key) {\n",
              "          const element = document.querySelector('#df-046717c3-c6ad-49e1-8deb-566abefe643f');\n",
              "          const dataTable =\n",
              "            await google.colab.kernel.invokeFunction('convertToInteractive',\n",
              "                                                     [key], {});\n",
              "          if (!dataTable) return;\n",
              "\n",
              "          const docLinkHtml = 'Like what you see? Visit the ' +\n",
              "            '<a target=\"_blank\" href=https://colab.research.google.com/notebooks/data_table.ipynb>data table notebook</a>'\n",
              "            + ' to learn more about interactive tables.';\n",
              "          element.innerHTML = '';\n",
              "          dataTable['output_type'] = 'display_data';\n",
              "          await google.colab.output.renderOutput(dataTable, element);\n",
              "          const docLink = document.createElement('div');\n",
              "          docLink.innerHTML = docLinkHtml;\n",
              "          element.appendChild(docLink);\n",
              "        }\n",
              "      </script>\n",
              "    </div>\n",
              "  </div>\n",
              "  "
            ]
          },
          "metadata": {},
          "execution_count": 14
        }
      ],
      "source": [
        "df_master.head(200)"
      ]
    },
    {
      "cell_type": "code",
      "execution_count": null,
      "metadata": {
        "colab": {
          "base_uri": "https://localhost:8080/"
        },
        "id": "r8oajinyavkL",
        "outputId": "6232656c-6431-4df5-b490-a89db9b49f2a"
      },
      "outputs": [
        {
          "output_type": "execute_result",
          "data": {
            "text/plain": [
              "0    9159\n",
              "1    3091\n",
              "2    2354\n",
              "Name: label, dtype: int64"
            ]
          },
          "metadata": {},
          "execution_count": 15
        }
      ],
      "source": [
        "df_master.label.value_counts()"
      ]
    },
    {
      "cell_type": "markdown",
      "metadata": {
        "id": "9KKQPydp2V5E"
      },
      "source": [
        "### Data Modelling"
      ]
    },
    {
      "cell_type": "code",
      "execution_count": null,
      "metadata": {
        "id": "DUWUtwS0B3r5"
      },
      "outputs": [],
      "source": [
        "X = df_master['text']\n",
        "y = df_master['label']"
      ]
    },
    {
      "cell_type": "code",
      "execution_count": null,
      "metadata": {
        "id": "lK6XMHa016LS"
      },
      "outputs": [],
      "source": [
        "#Combine two dataframes (Done)\n",
        "#labeling (Done)\n",
        "#Drop unneeded columns (Done)\n",
        "#Tokenazation (Done)\n",
        "#Splitting (Done)\n",
        "\n",
        "X_train, X_test, y_train, y_test = train_test_split(X, y, test_size = 0.20, random_state = 42)\n",
        "\n"
      ]
    },
    {
      "cell_type": "code",
      "execution_count": null,
      "metadata": {
        "id": "7wCJhwCHLglJ"
      },
      "outputs": [],
      "source": [
        "# hyperparameters\n",
        "epochs = 30\n",
        "vocab_size = 10000\n",
        "max_length = 100\n",
        "n_dim = 16\n",
        "training_size = X_train.shape[0]"
      ]
    },
    {
      "cell_type": "code",
      "execution_count": null,
      "metadata": {
        "id": "vLCa0OsxCX1m"
      },
      "outputs": [],
      "source": [
        "tokenizer = Tokenizer(oov_token='<OOV>') #replaces words absent from corpus with <OOV> to keep text length\n",
        "tokenizer.fit_on_texts(X_train)\n",
        "\n",
        "# representing each text as a sequence of tokens\n",
        "train_sequence = tokenizer.texts_to_sequences(X_train)\n",
        "\n",
        "# padding each sequence with trailing zeros so that all sequence have same length\n",
        "train_pad = pad_sequences(train_sequence, maxlen=max_length, padding='post', truncating='post')\n",
        "\n",
        "test_sequence = tokenizer.texts_to_sequences(X_test)\n",
        "test_pad = pad_sequences(test_sequence, maxlen=max_length, padding='post', truncating='post')"
      ]
    },
    {
      "cell_type": "code",
      "execution_count": null,
      "metadata": {
        "id": "yRDvpkQZTtZC"
      },
      "outputs": [],
      "source": [
        "model = tf.keras.Sequential([\n",
        "    tf.keras.layers.Embedding(vocab_size, n_dim, input_length=max_length),\n",
        "    tf.keras.layers.SpatialDropout1D(0.2),\n",
        "    tf.keras.layers.GlobalMaxPooling1D(),\n",
        "    tf.keras.layers.Dense(1, activation='relu')\n",
        "])\n",
        "model.compile(loss='binary_crossentropy',optimizer='nadam',metrics=['accuracy'])"
      ]
    },
    {
      "cell_type": "code",
      "execution_count": null,
      "metadata": {
        "id": "xlMEqR0rT4UM",
        "colab": {
          "base_uri": "https://localhost:8080/"
        },
        "outputId": "889c5719-7fc7-4406-cc17-772ae6e47768"
      },
      "outputs": [
        {
          "output_type": "stream",
          "name": "stdout",
          "text": [
            "Model: \"sequential\"\n",
            "_________________________________________________________________\n",
            " Layer (type)                Output Shape              Param #   \n",
            "=================================================================\n",
            " embedding (Embedding)       (None, 100, 16)           160000    \n",
            "                                                                 \n",
            " spatial_dropout1d (SpatialD  (None, 100, 16)          0         \n",
            " ropout1D)                                                       \n",
            "                                                                 \n",
            " global_max_pooling1d (Globa  (None, 16)               0         \n",
            " lMaxPooling1D)                                                  \n",
            "                                                                 \n",
            " dense (Dense)               (None, 1)                 17        \n",
            "                                                                 \n",
            "=================================================================\n",
            "Total params: 160,017\n",
            "Trainable params: 160,017\n",
            "Non-trainable params: 0\n",
            "_________________________________________________________________\n"
          ]
        }
      ],
      "source": [
        "model.summary()"
      ]
    },
    {
      "cell_type": "code",
      "execution_count": null,
      "metadata": {
        "colab": {
          "base_uri": "https://localhost:8080/"
        },
        "id": "LtF7vdygT83b",
        "outputId": "c3bbb335-7177-4025-d00f-4ae77bc795e8"
      },
      "outputs": [
        {
          "output_type": "stream",
          "name": "stdout",
          "text": [
            "Epoch 1/30\n",
            "366/366 - 6s - loss: 0.9349 - accuracy: 0.5873 - val_loss: 0.5879 - val_accuracy: 0.5423 - 6s/epoch - 18ms/step\n",
            "Epoch 2/30\n",
            "366/366 - 2s - loss: 0.3610 - accuracy: 0.4936 - val_loss: -1.6189e-01 - val_accuracy: 0.4810 - 2s/epoch - 6ms/step\n",
            "Epoch 3/30\n",
            "366/366 - 2s - loss: -1.3902e-01 - accuracy: 0.5639 - val_loss: -3.0061e-01 - val_accuracy: 0.6142 - 2s/epoch - 5ms/step\n",
            "Epoch 4/30\n",
            "366/366 - 2s - loss: -3.8590e-01 - accuracy: 0.5898 - val_loss: -6.9477e-01 - val_accuracy: 0.5751 - 2s/epoch - 6ms/step\n",
            "Epoch 5/30\n",
            "366/366 - 2s - loss: -5.5750e-01 - accuracy: 0.5523 - val_loss: -7.8325e-01 - val_accuracy: 0.5988 - 2s/epoch - 5ms/step\n",
            "Epoch 6/30\n",
            "366/366 - 2s - loss: -7.6080e-01 - accuracy: 0.6026 - val_loss: -8.2421e-01 - val_accuracy: 0.6036 - 2s/epoch - 5ms/step\n",
            "Epoch 7/30\n",
            "366/366 - 2s - loss: -7.8661e-01 - accuracy: 0.5945 - val_loss: -8.3845e-01 - val_accuracy: 0.6121 - 2s/epoch - 5ms/step\n",
            "Epoch 8/30\n",
            "366/366 - 2s - loss: -8.1773e-01 - accuracy: 0.6148 - val_loss: -8.6937e-01 - val_accuracy: 0.6193 - 2s/epoch - 5ms/step\n",
            "Epoch 9/30\n",
            "366/366 - 2s - loss: -8.5786e-01 - accuracy: 0.6232 - val_loss: -8.8435e-01 - val_accuracy: 0.6275 - 2s/epoch - 6ms/step\n",
            "Epoch 10/30\n",
            "366/366 - 2s - loss: -9.0945e-01 - accuracy: 0.6426 - val_loss: -8.9562e-01 - val_accuracy: 0.6381 - 2s/epoch - 5ms/step\n",
            "Epoch 11/30\n",
            "366/366 - 2s - loss: -9.5555e-01 - accuracy: 0.6357 - val_loss: -9.1688e-01 - val_accuracy: 0.6375 - 2s/epoch - 5ms/step\n",
            "Epoch 12/30\n",
            "366/366 - 2s - loss: -1.0219e+00 - accuracy: 0.6447 - val_loss: -9.4001e-01 - val_accuracy: 0.6405 - 2s/epoch - 5ms/step\n",
            "Epoch 13/30\n",
            "366/366 - 2s - loss: -1.0372e+00 - accuracy: 0.6497 - val_loss: -9.7279e-01 - val_accuracy: 0.6248 - 2s/epoch - 5ms/step\n",
            "Epoch 14/30\n",
            "366/366 - 2s - loss: -1.1021e+00 - accuracy: 0.6450 - val_loss: -9.7326e-01 - val_accuracy: 0.6419 - 2s/epoch - 6ms/step\n",
            "Epoch 15/30\n",
            "366/366 - 2s - loss: -1.0703e+00 - accuracy: 0.6348 - val_loss: -9.6394e-01 - val_accuracy: 0.6248 - 2s/epoch - 6ms/step\n",
            "Epoch 16/30\n",
            "366/366 - 2s - loss: -1.0609e+00 - accuracy: 0.6418 - val_loss: -9.7295e-01 - val_accuracy: 0.6248 - 2s/epoch - 6ms/step\n",
            "Epoch 17/30\n",
            "366/366 - 2s - loss: -1.1690e+00 - accuracy: 0.6515 - val_loss: -1.0124e+00 - val_accuracy: 0.6340 - 2s/epoch - 5ms/step\n",
            "Epoch 18/30\n",
            "366/366 - 2s - loss: -1.1478e+00 - accuracy: 0.6557 - val_loss: -1.0064e+00 - val_accuracy: 0.6525 - 2s/epoch - 5ms/step\n",
            "Epoch 19/30\n",
            "366/366 - 2s - loss: -1.1917e+00 - accuracy: 0.6763 - val_loss: -9.1693e-01 - val_accuracy: 0.6683 - 2s/epoch - 5ms/step\n",
            "Epoch 20/30\n",
            "366/366 - 2s - loss: -1.1687e+00 - accuracy: 0.6807 - val_loss: -9.7529e-01 - val_accuracy: 0.6542 - 2s/epoch - 5ms/step\n",
            "Epoch 21/30\n",
            "366/366 - 2s - loss: -1.1470e+00 - accuracy: 0.6918 - val_loss: -8.8722e-01 - val_accuracy: 0.6748 - 2s/epoch - 6ms/step\n",
            "Epoch 22/30\n",
            "366/366 - 2s - loss: -1.1923e+00 - accuracy: 0.6913 - val_loss: -9.5053e-01 - val_accuracy: 0.6631 - 2s/epoch - 5ms/step\n",
            "Epoch 23/30\n",
            "366/366 - 2s - loss: -1.2776e+00 - accuracy: 0.6676 - val_loss: -1.0213e+00 - val_accuracy: 0.6481 - 2s/epoch - 5ms/step\n",
            "Epoch 24/30\n",
            "366/366 - 2s - loss: -1.2730e+00 - accuracy: 0.6660 - val_loss: -1.0054e+00 - val_accuracy: 0.6460 - 2s/epoch - 6ms/step\n",
            "Epoch 25/30\n",
            "366/366 - 2s - loss: -1.2690e+00 - accuracy: 0.6814 - val_loss: -1.0111e+00 - val_accuracy: 0.6566 - 2s/epoch - 6ms/step\n",
            "Epoch 26/30\n",
            "366/366 - 2s - loss: -1.3059e+00 - accuracy: 0.6937 - val_loss: -1.0069e+00 - val_accuracy: 0.6539 - 2s/epoch - 5ms/step\n",
            "Epoch 27/30\n",
            "366/366 - 2s - loss: -1.3539e+00 - accuracy: 0.6919 - val_loss: -1.0044e+00 - val_accuracy: 0.6611 - 2s/epoch - 5ms/step\n",
            "Epoch 28/30\n",
            "366/366 - 2s - loss: -1.3354e+00 - accuracy: 0.6931 - val_loss: -1.0225e+00 - val_accuracy: 0.6577 - 2s/epoch - 5ms/step\n",
            "Epoch 29/30\n",
            "366/366 - 2s - loss: -1.3310e+00 - accuracy: 0.6818 - val_loss: -1.0293e+00 - val_accuracy: 0.6446 - 2s/epoch - 6ms/step\n",
            "Epoch 30/30\n",
            "366/366 - 2s - loss: -1.3791e+00 - accuracy: 0.6918 - val_loss: -1.0107e+00 - val_accuracy: 0.6501 - 2s/epoch - 5ms/step\n"
          ]
        }
      ],
      "source": [
        "history = model.fit(train_pad, y_train, epochs=epochs, validation_data=(test_pad, y_test), verbose=2)"
      ]
    },
    {
      "cell_type": "markdown",
      "metadata": {
        "id": "SbhUPEhySnQd"
      },
      "source": [
        "### The results"
      ]
    },
    {
      "cell_type": "code",
      "execution_count": null,
      "metadata": {
        "id": "B3jjZy3hU9xc",
        "colab": {
          "base_uri": "https://localhost:8080/"
        },
        "outputId": "14296250-da6e-49e7-b4c2-8ee32cd28bcd"
      },
      "outputs": [
        {
          "output_type": "display_data",
          "data": {
            "text/plain": [
              "<Figure size 432x288 with 1 Axes>"
            ],
            "image/png": "[encoded data removed]"
          },
          "metadata": {
            "needs_background": "light"
          }
        },
        {
          "output_type": "display_data",
          "data": {
            "text/plain": [
              "<Figure size 432x288 with 1 Axes>"
            ],
            "image/png": "[encoded data removed]"
          },
          "metadata": {
            "needs_background": "light"
          }
        }
      ],
      "source": [
        "plt.plot(history.history['accuracy'])\n",
        "plt.plot(history.history['val_accuracy'])\n",
        "plt.xlabel(\"Epochs\")\n",
        "plt.ylabel('Accuracy')\n",
        "plt.legend(['Accuracy', 'Validation accuracy'])\n",
        "plt.show()\n",
        "\n",
        "plt.plot(history.history['loss'])\n",
        "plt.plot(history.history['val_loss'])\n",
        "plt.xlabel(\"Epochs\")\n",
        "plt.ylabel('Loss')\n",
        "plt.legend(['Loss','Validation loss'])\n",
        "plt.show()"
      ]
    }
  ],
  "metadata": {
    "accelerator": "GPU",
    "colab": {
      "collapsed_sections": [
        "L9ADl1092Gj7"
      ],
      "name": "SIC_Capstone_Project_Sentiment_Analyzer_Group4_v2.ipynb",
      "provenance": [],
      "toc_visible": true,
      "include_colab_link": true
    },
    "kernelspec": {
      "display_name": "Python 3",
      "name": "python3"
    },
    "language_info": {
      "name": "python"
    }
  },
  "nbformat": 4,
  "nbformat_minor": 0
}