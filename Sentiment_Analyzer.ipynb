{
  "cells": [
    {
      "cell_type": "markdown",
      "metadata": {
        "id": "view-in-github",
        "colab_type": "text"
      },
      "source": [
        "<a href=\"https://colab.research.google.com/github/Turkinass/Sentiment_Analyzer/blob/main/Sentiment_Analyzer.ipynb\" target=\"_parent\"><img src=\"https://colab.research.google.com/assets/colab-badge.svg\" alt=\"Open In Colab\"/></a>"
      ]
    },
    {
      "cell_type": "markdown",
      "metadata": {
        "id": "KcyQMnrBHMGj"
      },
      "source": [
        "SIC Capstone Project - The Unit (Group 4)\n",
        "# **Sentiment Analyzer**"
      ]
    },
    {
      "cell_type": "markdown",
      "metadata": {
        "id": "BFmz4_Nlo54Z"
      },
      "source": [
        "### Installing required libraries"
      ]
    },
    {
      "cell_type": "code",
      "execution_count": null,
      "metadata": {
        "id": "h2xvBIIB4ODp"
      },
      "outputs": [],
      "source": [
        "import pandas as pd\n",
        "import matplotlib.pyplot as plt\n",
        "import numpy as np\n",
        "import re\n",
        "\n",
        "from sklearn.model_selection import train_test_split\n",
        "\n",
        "import tensorflow as tf\n",
        "from tensorflow.keras.preprocessing.text import Tokenizer\n",
        "from tensorflow.keras.preprocessing.sequence import pad_sequences\n",
        "\n",
        "from google.colab import drive"
      ]
    },
    {
      "cell_type": "code",
      "execution_count": null,
      "metadata": {
        "id": "i3uXDE_S4QK4"
      },
      "outputs": [],
      "source": [
        "df_master = pd.read_csv('https://raw.githubusercontent.com/Turkinass/Sentiment_Analyzer/main/Tweets.csv')\n"
      ]
    },
    {
      "cell_type": "code",
      "execution_count": null,
      "metadata": {
        "id": "8jdyCMrB4cCQ"
      },
      "outputs": [],
      "source": [
        "df_master.sample(5)"
      ]
    },
    {
      "cell_type": "code",
      "execution_count": null,
      "metadata": {
        "id": "XWlk4hTf8Q3J"
      },
      "outputs": [],
      "source": [
        "df_master.airline_sentiment.value_counts()"
      ]
    },
    {
      "cell_type": "markdown",
      "metadata": {
        "id": "L9ADl1092Gj7"
      },
      "source": [
        "### Data Preprocessing"
      ]
    },
    {
      "cell_type": "code",
      "execution_count": null,
      "metadata": {
        "id": "I3eMxQee5np1"
      },
      "outputs": [],
      "source": [
        "print('Number of duplicated values: ', df_master.duplicated().sum())"
      ]
    },
    {
      "cell_type": "code",
      "execution_count": null,
      "metadata": {
        "id": "FrjY042y74Jp"
      },
      "outputs": [],
      "source": [
        "df_master.drop_duplicates(inplace = True)"
      ]
    },
    {
      "cell_type": "code",
      "execution_count": null,
      "metadata": {
        "id": "vb5F7Sfk7_Gv"
      },
      "outputs": [],
      "source": [
        "print('Number of duplicated values: ', df_master.duplicated().sum())"
      ]
    },
    {
      "cell_type": "code",
      "execution_count": null,
      "metadata": {
        "id": "fZ5NByni-kxu"
      },
      "outputs": [],
      "source": [
        "df_master.head()"
      ]
    },
    {
      "cell_type": "code",
      "execution_count": null,
      "metadata": {
        "id": "xWCMiRDS-nk6"
      },
      "outputs": [],
      "source": [
        "df_master.shape"
      ]
    },
    {
      "cell_type": "code",
      "execution_count": null,
      "metadata": {
        "id": "ksdrsPAc_Hu2"
      },
      "outputs": [],
      "source": [
        "# tokenizing the sentiments\n",
        "sentiment_conditions = [\n",
        "    (df_master['airline_sentiment'] == 'negative'),\n",
        "    (df_master['airline_sentiment'] == 'neutral'),\n",
        "    (df_master['airline_sentiment'] == 'positive')\n",
        "    ]\n",
        "\n",
        "values = [0, 1, 2]\n",
        "\n",
        "df_master['label'] = np.select(sentiment_conditions, values)"
      ]
    },
    {
      "cell_type": "code",
      "execution_count": null,
      "metadata": {
        "id": "sESMWcSgAmPA"
      },
      "outputs": [],
      "source": [
        "df_master.label.value_counts()"
      ]
    },
    {
      "cell_type": "code",
      "execution_count": null,
      "metadata": {
        "id": "A8x4ovYrA015"
      },
      "outputs": [],
      "source": [
        "# removing unneeded columns\n",
        "df_master.drop(df_master.columns.difference(['airline_sentiment','text', 'label']), 1, inplace=True)"
      ]
    },
    {
      "cell_type": "code",
      "execution_count": null,
      "metadata": {
        "id": "oInV1j8JBGtv"
      },
      "outputs": [],
      "source": [
        "df_master.head(200)"
      ]
    },
    {
      "cell_type": "code",
      "execution_count": null,
      "metadata": {
        "id": "r8oajinyavkL"
      },
      "outputs": [],
      "source": [
        "df_master.label.value_counts()"
      ]
    },
    {
      "cell_type": "markdown",
      "metadata": {
        "id": "9KKQPydp2V5E"
      },
      "source": [
        "### Data Modelling"
      ]
    },
    {
      "cell_type": "code",
      "execution_count": null,
      "metadata": {
        "id": "DUWUtwS0B3r5"
      },
      "outputs": [],
      "source": [
        "X = df_master['text']\n",
        "y = df_master['label']"
      ]
    },
    {
      "cell_type": "code",
      "execution_count": null,
      "metadata": {
        "id": "lK6XMHa016LS"
      },
      "outputs": [],
      "source": [
        "#Combine two dataframes (Done)\n",
        "#labeling (Done)\n",
        "#Drop unneeded columns (Done)\n",
        "#Tokenazation (Done)\n",
        "#Splitting (Done)\n",
        "\n",
        "X_train, X_test, y_train, y_test = train_test_split(X, y, test_size = 0.20, random_state = 42)\n",
        "\n"
      ]
    },
    {
      "cell_type": "code",
      "execution_count": null,
      "metadata": {
        "id": "7wCJhwCHLglJ"
      },
      "outputs": [],
      "source": [
        "# hyperparameters\n",
        "epochs = 30\n",
        "vocab_size = 10000\n",
        "max_length = 100\n",
        "n_dim = 16\n",
        "training_size = X_train.shape[0]"
      ]
    },
    {
      "cell_type": "code",
      "execution_count": null,
      "metadata": {
        "id": "vLCa0OsxCX1m"
      },
      "outputs": [],
      "source": [
        "tokenizer = Tokenizer(oov_token='<OOV>') #replaces words absent from corpus with <OOV> to keep text length\n",
        "tokenizer.fit_on_texts(X_train)\n",
        "\n",
        "# representing each text as a sequence of tokens\n",
        "train_sequence = tokenizer.texts_to_sequences(X_train)\n",
        "\n",
        "# padding each sequence with trailing zeros so that all sequence have same length\n",
        "train_pad = pad_sequences(train_sequence, maxlen=max_length, padding='post', truncating='post')\n",
        "\n",
        "test_sequence = tokenizer.texts_to_sequences(X_test)\n",
        "test_pad = pad_sequences(test_sequence, maxlen=max_length, padding='post', truncating='post')"
      ]
    },
    {
      "cell_type": "code",
      "execution_count": null,
      "metadata": {
        "id": "yRDvpkQZTtZC"
      },
      "outputs": [],
      "source": [
        "model = tf.keras.Sequential([\n",
        "    tf.keras.layers.Embedding(vocab_size, n_dim, input_length=max_length),\n",
        "    tf.keras.layers.SpatialDropout1D(0.2),\n",
        "    tf.keras.layers.GlobalMaxPooling1D(),\n",
        "    tf.keras.layers.Dense(1, activation='relu')\n",
        "])\n",
        "model.compile(loss='binary_crossentropy',optimizer='nadam',metrics=['accuracy'])"
      ]
    },
    {
      "cell_type": "code",
      "execution_count": null,
      "metadata": {
        "id": "xlMEqR0rT4UM"
      },
      "outputs": [],
      "source": [
        "model.summary()"
      ]
    },
    {
      "cell_type": "code",
      "execution_count": null,
      "metadata": {
        "id": "LtF7vdygT83b"
      },
      "outputs": [],
      "source": [
        "history = model.fit(train_pad, y_train, epochs=epochs, validation_data=(test_pad, y_test), verbose=2)"
      ]
    },
    {
      "cell_type": "markdown",
      "metadata": {
        "id": "SbhUPEhySnQd"
      },
      "source": [
        "### The results"
      ]
    },
    {
      "cell_type": "code",
      "execution_count": null,
      "metadata": {
        "id": "B3jjZy3hU9xc"
      },
      "outputs": [],
      "source": [
        "plt.plot(history.history['accuracy'])\n",
        "plt.plot(history.history['val_accuracy'])\n",
        "plt.xlabel(\"Epochs\")\n",
        "plt.ylabel('Accuracy')\n",
        "plt.legend(['Accuracy', 'Validation accuracy'])\n",
        "plt.show()\n",
        "\n",
        "plt.plot(history.history['loss'])\n",
        "plt.plot(history.history['val_loss'])\n",
        "plt.xlabel(\"Epochs\")\n",
        "plt.ylabel('Loss')\n",
        "plt.legend(['Loss','Validation loss'])\n",
        "plt.show()"
      ]
    }
  ],
  "metadata": {
    "accelerator": "GPU",
    "colab": {
      "collapsed_sections": [
        "L9ADl1092Gj7"
      ],
      "name": "SIC_Capstone_Project_Sentiment_Analyzer_Group4_v2.ipynb",
      "provenance": [],
      "toc_visible": true,
      "include_colab_link": true
    },
    "kernelspec": {
      "display_name": "Python 3",
      "name": "python3"
    },
    "language_info": {
      "name": "python"
    }
  },
  "nbformat": 4,
  "nbformat_minor": 0
}